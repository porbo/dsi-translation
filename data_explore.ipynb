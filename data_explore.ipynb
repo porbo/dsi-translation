{
 "cells": [
  {
   "cell_type": "code",
   "execution_count": 2,
   "metadata": {},
   "outputs": [],
   "source": [
    "import numpy as np\n",
    "import pandas as pd\n",
    "import statsmodels.api as sm\n",
    "from src.util import conv_per_country, df_filter, ttest\n",
    "import scipy.stats as scs"
   ]
  },
  {
   "cell_type": "code",
   "execution_count": 3,
   "metadata": {},
   "outputs": [],
   "source": [
    "user = pd.read_csv('data/user_table.csv')\n",
    "test = pd.read_csv('data/test_table.csv')"
   ]
  },
  {
   "cell_type": "code",
   "execution_count": 4,
   "metadata": {},
   "outputs": [],
   "source": [
    "full = df_filter(user, test)"
   ]
  },
  {
   "cell_type": "code",
   "execution_count": 5,
   "metadata": {},
   "outputs": [
    {
     "name": "stdout",
     "output_type": "stream",
     "text": [
      "Mexico :\n",
      "\ttest:\t 0.05094 \tcontrol:\t 0.04997 \tcount:\t 107086 \tp-value:\t 0.47037\n",
      "Venezuela :\n",
      "\ttest:\t 0.04983 \tcontrol:\t 0.05071 \tcount:\t 26733 \tp-value:\t 0.74154\n",
      "Bolivia :\n",
      "\ttest:\t 0.04942 \tcontrol:\t 0.04957 \tcount:\t 9254 \tp-value:\t 0.97429\n",
      "Colombia :\n",
      "\ttest:\t 0.05101 \tcontrol:\t 0.05288 \tcount:\t 44850 \tp-value:\t 0.37154\n",
      "Uruguay :\n",
      "\ttest:\t 0.01097 \tcontrol:\t 0.00843 \tcount:\t 3454 \tp-value:\t 0.65841\n",
      "El Salvador :\n",
      "\ttest:\t 0.04888 \tcontrol:\t 0.05468 \tcount:\t 6775 \tp-value:\t 0.28191\n",
      "Nicaragua :\n",
      "\ttest:\t 0.05457 \tcontrol:\t 0.05403 \tcount:\t 5636 \tp-value:\t 0.92797\n",
      "Peru :\n",
      "\ttest:\t 0.05046 \tcontrol:\t 0.04939 \tcount:\t 28000 \tp-value:\t 0.68063\n",
      "Argentina :\n",
      "\ttest:\t 0.01407 \tcontrol:\t 0.0154 \tcount:\t 38997 \tp-value:\t 0.37704\n",
      "Chile :\n",
      "\ttest:\t 0.04969 \tcontrol:\t 0.04829 \tcount:\t 16433 \tp-value:\t 0.67882\n",
      "Ecuador :\n",
      "\ttest:\t 0.0488 \tcontrol:\t 0.0504 \tcount:\t 13262 \tp-value:\t 0.67197\n",
      "Guatemala :\n",
      "\ttest:\t 0.05131 \tcontrol:\t 0.0499 \tcount:\t 12610 \tp-value:\t 0.71823\n",
      "Honduras :\n",
      "\ttest:\t 0.04899 \tcontrol:\t 0.05061 \tcount:\t 7167 \tp-value:\t 0.75409\n",
      "Paraguay :\n",
      "\ttest:\t 0.04705 \tcontrol:\t 0.04722 \tcount:\t 6089 \tp-value:\t 0.97419\n",
      "Panama :\n",
      "\ttest:\t 0.05174 \tcontrol:\t 0.04791 \tcount:\t 3290 \tp-value:\t 0.6136\n",
      "Costa Rica :\n",
      "\ttest:\t 0.05316 \tcontrol:\t 0.05146 \tcount:\t 4378 \tp-value:\t 0.80005\n",
      "nan :\n",
      "\ttest:\t nan \tcontrol:\t nan \tcount:\t 0 \tp-value:\t nan\n"
     ]
    }
   ],
   "source": [
    "conv_per_country(full)"
   ]
  },
  {
   "cell_type": "code",
   "execution_count": 7,
   "metadata": {},
   "outputs": [],
   "source": [
    "no_arg = full[full.country != 'Argentina']"
   ]
  },
  {
   "cell_type": "code",
   "execution_count": 8,
   "metadata": {},
   "outputs": [
    {
     "data": {
      "text/plain": [
       "Ttest_indResult(statistic=-0.8767395493450012, pvalue=0.3806288329358861)"
      ]
     },
     "execution_count": 8,
     "metadata": {},
     "output_type": "execute_result"
    }
   ],
   "source": [
    "ttest(no_arg)"
   ]
  },
  {
   "cell_type": "code",
   "execution_count": null,
   "metadata": {},
   "outputs": [],
   "source": []
  },
  {
   "cell_type": "code",
   "execution_count": 14,
   "metadata": {},
   "outputs": [
    {
     "name": "stdout",
     "output_type": "stream",
     "text": [
      "0.04353243516860058\n",
      "0.048659031087714306\n"
     ]
    }
   ],
   "source": [
    "print(full[full['test'] == 1]['conversion'].mean())\n",
    "print(full[full['test'] == 0]['conversion'].mean())"
   ]
  },
  {
   "cell_type": "code",
   "execution_count": 6,
   "metadata": {},
   "outputs": [
    {
     "data": {
      "text/plain": [
       "Ttest_indResult(statistic=-7.063432985217286, pvalue=1.6275313760833497e-12)"
      ]
     },
     "execution_count": 6,
     "metadata": {},
     "output_type": "execute_result"
    }
   ],
   "source": [
    "scs.ttest_ind(full[full['test'] == 1]['conversion'].values, full[full['test'] == 0]['conversion'].values)"
   ]
  },
  {
   "cell_type": "code",
   "execution_count": null,
   "metadata": {},
   "outputs": [],
   "source": [
    "scs.ttest_ind(full[full['test'] == 1]['conversion'].values, full[full['test'] == 0]['conversion'].values)"
   ]
  },
  {
   "cell_type": "code",
   "execution_count": null,
   "metadata": {},
   "outputs": [],
   "source": []
  },
  {
   "cell_type": "code",
   "execution_count": 16,
   "metadata": {},
   "outputs": [
    {
     "name": "stdout",
     "output_type": "stream",
     "text": [
      "IE \t\t 0.04546748724238376\n",
      "FireFox \t\t 0.045070235004327275\n",
      "Android_App \t\t 0.046219698624153746\n",
      "Chrome \t\t 0.04592896320357846\n",
      "Iphone_App \t\t 0.047555296856810245\n",
      "Safari \t\t 0.04351271046550016\n",
      "Opera \t\t 0.050908275398071315\n"
     ]
    }
   ],
   "source": [
    "for b in full.browser.unique():\n",
    "    print(b, '\\t\\t', full[full.browser == b].conversion.mean())"
   ]
  },
  {
   "cell_type": "code",
   "execution_count": null,
   "metadata": {},
   "outputs": [],
   "source": []
  }
 ],
 "metadata": {
  "kernelspec": {
   "display_name": "Python 3",
   "language": "python",
   "name": "python3"
  },
  "language_info": {
   "codemirror_mode": {
    "name": "ipython",
    "version": 3
   },
   "file_extension": ".py",
   "mimetype": "text/x-python",
   "name": "python",
   "nbconvert_exporter": "python",
   "pygments_lexer": "ipython3",
   "version": "3.6.8"
  }
 },
 "nbformat": 4,
 "nbformat_minor": 2
}
