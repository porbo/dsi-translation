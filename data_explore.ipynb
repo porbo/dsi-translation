{
 "cells": [
  {
   "cell_type": "code",
   "execution_count": 12,
   "metadata": {},
   "outputs": [],
   "source": [
    "import numpy as np\n",
    "import pandas as pd\n",
    "import statsmodels.api as sm\n",
    "from src.util import conv_per_country\n",
    "import scipy.stats as scs"
   ]
  },
  {
   "cell_type": "code",
   "execution_count": 2,
   "metadata": {},
   "outputs": [],
   "source": [
    "user = pd.read_csv('data/user_table.csv')\n",
    "test = pd.read_csv('data/test_table.csv')"
   ]
  },
  {
   "cell_type": "code",
   "execution_count": 3,
   "metadata": {},
   "outputs": [],
   "source": [
    "full = test.merge(user, on = 'user_id', how = 'left')"
   ]
  },
  {
   "cell_type": "code",
   "execution_count": 4,
   "metadata": {},
   "outputs": [
    {
     "name": "stdout",
     "output_type": "stream",
     "text": [
      "Spain :\ttest:\t nan \tcontrol:\t 0.07971882121200417 \tcount:\t 51782\n",
      "Mexico :\ttest:\t 0.05118630882924932 \tcontrol:\t 0.04949461913438926 \tcount:\t 128484\n",
      "Venezuela :\ttest:\t 0.04897830870795347 \tcontrol:\t 0.05034367453093071 \tcount:\t 32054\n",
      "Bolivia :\ttest:\t 0.04790096878363832 \tcontrol:\t 0.04936936936936937 \tcount:\t 11124\n",
      "Colombia :\ttest:\t 0.05057096247960848 \tcontrol:\t 0.052089486119314826 \tcount:\t 54060\n",
      "Uruguay :\ttest:\t 0.012906695348211886 \tcontrol:\t 0.012048192771084338 \tcount:\t 4134\n",
      "El Salvador :\ttest:\t 0.04794688959921318 \tcontrol:\t 0.053554040895813046 \tcount:\t 8175\n",
      "Nicaragua :\ttest:\t 0.05417675544794189 \tcontrol:\t 0.05264697279906405 \tcount:\t 6723\n",
      "Peru :\ttest:\t 0.05060427457284039 \tcontrol:\t 0.04991404351176715 \tcount:\t 33666\n",
      "Costa Rica :\ttest:\t 0.05473763684409211 \tcontrol:\t 0.05225563909774436 \tcount:\t 5309\n",
      "Chile :\ttest:\t 0.051295022258195065 \tcontrol:\t 0.048107175479549374 \tcount:\t 19737\n",
      "Argentina :\ttest:\t 0.013725018059234288 \tcontrol:\t 0.015070542967079948 \tcount:\t 46733\n",
      "Ecuador :\ttest:\t 0.04898842091869195 \tcontrol:\t 0.04915380786460926 \tcount:\t 15895\n",
      "Guatemala :\ttest:\t 0.04864720778355325 \tcontrol:\t 0.05064287588559433 \tcount:\t 15125\n",
      "Honduras :\ttest:\t 0.04753981459472308 \tcontrol:\t 0.050905755560651224 \tcount:\t 8568\n",
      "Paraguay :\ttest:\t 0.04922910467946984 \tcontrol:\t 0.048493150684931506 \tcount:\t 7347\n",
      "Panama :\ttest:\t 0.04937027707808564 \tcontrol:\t 0.04679552390640895 \tcount:\t 3951\n",
      "nan :\ttest:\t nan \tcontrol:\t nan \tcount:\t 0\n"
     ]
    }
   ],
   "source": [
    "conv_per_country(full)"
   ]
  },
  {
   "cell_type": "code",
   "execution_count": 7,
   "metadata": {},
   "outputs": [
    {
     "data": {
      "text/plain": [
       "0.07971882121200417"
      ]
     },
     "execution_count": 7,
     "metadata": {},
     "output_type": "execute_result"
    }
   ],
   "source": [
    "full[full['country'] == 'Spain']['conversion'].mean()"
   ]
  },
  {
   "cell_type": "code",
   "execution_count": 10,
   "metadata": {},
   "outputs": [],
   "source": [
    "not_spain = full[full['country'] != 'Spain']"
   ]
  },
  {
   "cell_type": "code",
   "execution_count": 11,
   "metadata": {},
   "outputs": [
    {
     "name": "stdout",
     "output_type": "stream",
     "text": [
      "0.043424713982118966\n",
      "0.04833042316066309\n"
     ]
    }
   ],
   "source": [
    "print(not_spain[not_spain['test'] == 1]['conversion'].mean())\n",
    "print(not_spain[not_spain['test'] == 0]['conversion'].mean())"
   ]
  },
  {
   "cell_type": "code",
   "execution_count": 13,
   "metadata": {},
   "outputs": [
    {
     "data": {
      "text/plain": [
       "Ttest_indResult(statistic=-7.422512095954769, pvalue=1.15144687852198e-13)"
      ]
     },
     "execution_count": 13,
     "metadata": {},
     "output_type": "execute_result"
    }
   ],
   "source": [
    "scs.ttest_ind(not_spain[not_spain['test'] == 1]['conversion'].values, not_spain[not_spain['test'] == 0]['conversion'].values)"
   ]
  },
  {
   "cell_type": "code",
   "execution_count": null,
   "metadata": {},
   "outputs": [],
   "source": []
  }
 ],
 "metadata": {
  "kernelspec": {
   "display_name": "Python 3",
   "language": "python",
   "name": "python3"
  },
  "language_info": {
   "codemirror_mode": {
    "name": "ipython",
    "version": 3
   },
   "file_extension": ".py",
   "mimetype": "text/x-python",
   "name": "python",
   "nbconvert_exporter": "python",
   "pygments_lexer": "ipython3",
   "version": "3.6.8"
  }
 },
 "nbformat": 4,
 "nbformat_minor": 2
}
